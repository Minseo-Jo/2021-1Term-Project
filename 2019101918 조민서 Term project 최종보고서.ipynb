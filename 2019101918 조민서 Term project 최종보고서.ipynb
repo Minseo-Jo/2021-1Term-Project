{
 "cells": [
  {
   "cell_type": "markdown",
   "metadata": {},
   "source": [
    "# 2021-1 Term project: 비만 예방 식단 프로그램 \n",
    "식품영양학과 19 조민서(2019101918)"
   ]
  },
  {
   "cell_type": "markdown",
   "metadata": {},
   "source": [
    "주제: 비만 예방 식단 프로그램 \n",
    "\n",
    "    신체 정보에 근거하여 bmi. 체지방률을 계산하여 비만율을 측정해준다. 또한 비만을 예방하기 위해 특정 식품에 대한 영양성분정보를 제공해주는 프로그램이다.\n",
    "\n"
   ]
  },
  {
   "cell_type": "markdown",
   "metadata": {},
   "source": [
    "(1)주제 선정 이유:\n",
    "    \n",
    "    이 주제를 선정한 이유는 한국인의 가장 큰 영양 문제 중 하나인 비만을 예방하기 위해서이다. 보건복지부의 한국인 영양 상태 통계에 따르면 한국인의 비만 유병률 추이가 증가하는 추세인 것을 확인할 수 있다. 비만은 암, 당뇨병, 이상지질혈증, 고혈압 등의 발생위험을 높이므로 비만환자들은 체중 감량에 초점을 두어야 한다. 가장 효과적인 체중감량 치료 중 하나는 칼로리 섭취를 줄이는 식사조절이다. 비만환자의 식사조절에 도움이 되고자 체중감량에 도움이 되는 식품들의 정보를 제공해보고자 한다. 이 프로그램은 각 시, 군, 구청의 영양사업에도 이용되어 빠르고 편리하게 비만환자들의 치료에 도움이 될 것이다. "
   ]
  },
  {
   "cell_type": "markdown",
   "metadata": {},
   "source": [
    "(2) 주제 정의: \n",
    "    \n",
    "    이 주제를 증명,확인하기 위해서 총 3가지 함수를 사용한다. \n",
    "    \n",
    "    첫번째 함수에서는 입력 파라메타로 자신의 키, 몸무게를 입력 받고 Bmi값과 Bmi 지수 범위 별로(18.5 이하면 저체중, 18.5 ~ 23 정상, 23 ~ 25 과체중, 25 ~ 30 비만, 30 ~ 35 고도비만, 35이상 초고도비만) 범위에 따른 자신의 비만도를 결과값으로 반환한다. \n",
    "    \n",
    "    두번째 함수에서는 입력파라메타로 키, 몸무게, 성별을 입력 받고 체지방률의 범위에 따라 비만율을 측정하여 (남성의 경우 15 ~ 20%, 여성의 경우 20 ~ 25% 정상범위 이상이면 비만) 비만 정도를 결과값으로 반환한다.\n",
    "    \n",
    "    세번째 함수에서는 입력파라메타로 특정 식품이름을 받고 그 식품의 영양성분을 결과값으로 반환해준다. \n",
    "    함수로 정보를 제공해줄뿐만 아니라 다양한 식품의 모든 영양정보를 확인 할 수 있는 csv 파일도 제공해준다.\n",
    "     \n",
    "     *영양성분 결과값 명세\n",
    "    DESC_KOR : 식품 이름 \n",
    "    SERVING_WT : 1회 제공량\n",
    "    NUTR_CONT1: 열량(kcal)\n",
    "    NUTR_CONT2: 탄수화물(g)\n",
    "    NUTR_CONT3: 단백질(g)\n",
    "    NUTR_CONT4: 지방(g)\n",
    "    NUTR_CONT5: 당류(g)\n",
    "    NUTR_CONT6: 나트륨(mg)\n",
    "    NUTR_CONT7: 콜레스테롤(mg)\n",
    "    NUTR_CONT8: 포화지방산(g)\n",
    "    NUTR_CONT9: 트랜스지방산(g)\n",
    "    "
   ]
  },
  {
   "cell_type": "markdown",
   "metadata": {},
   "source": [
    "(3) 인터넷을 통한 데이터 획득:\n",
    "\n",
    "    Bmi 함수와 체지방률 함수를 구현하기 위해 이를 구하는 공식을 보건소와 특정 웹사이트를 통해 찾아보았다. 또한 비만도를 측정하는 기준 범위을 알아보았다. 이를 토대로 저체중 범위부터 고도비만 범위까지 자신의 비만도를 측정할 수 있는 함수를 구현해보았다. \n",
    "    \n",
    "    영양성분 제공 함수를 구현하기 위해 공공데이터를 사용하였다.\n",
    "    \n",
    "    데이터를 획득한 곳은 식품의약품안전처의‘식품 영양성분(DB) 서비스'이다. 이 데이터는 식품이름, 1회 제공량, 열량, 탄수화물 등의 식품 영양성분 정보를 제공해준다.     "
   ]
  },
  {
   "cell_type": "markdown",
   "metadata": {},
   "source": [
    "(4)분석을 위한 데이터의 가공:  \n",
    "\n",
    "     영양성분을 제공하는 함수에서 공공데이터의 가공이 이루어진다.\n",
    "     \n",
    "     공공데이터 포털에서 제공하는 open api 인증키를 발급받고 해당 request 주소에 인증키를 입력하여 xml파일을 얻을 수 있었다. 획득한 파일을 가공하기 위해서 request, xmltodict, json 모듈을 사용한다. \n",
    "     \n",
    "     request의 get 함수를 써서 해당 데이터 주소를 content 변수로 받는다. content를 xmltodict 모듈의 parse 함수를 사용하여 dictionary로 변환하여 dict 변수에 지정해준다. dict를 json의 dump 함수를 사용하여 문자열로 바꿔주고 loads 함수를 사용하여 json 객체로 변환한다. 그리고 json객체를 이용하여 식품명을 입력파라메타로 받아 그에 맞는 영양성분을 제공하는 함수를 만든다. \n",
    "     \n",
    "     pandas모듈을 활용하여 해당 데이터의 dataframe을 만든 후 csv파일로 저장하여 데이터 정보를 한눈에 보기 쉽게 제공한다."
   ]
  },
  {
   "cell_type": "markdown",
   "metadata": {},
   "source": [
    "(5) 분석 결과 도출:\n",
    "    \n",
    "    3개의 함수에 각각 입력파라메타를 넣어 원하는 결과값이 나오는 지 확인해본다."
   ]
  },
  {
   "cell_type": "code",
   "execution_count": 20,
   "metadata": {},
   "outputs": [
    {
     "name": "stdout",
     "output_type": "stream",
     "text": [
      "키(cm)를 입력하세요. : 162\n",
      "몸무게(kg)를 입력하세요. : 42\n",
      "Low weight\n",
      "키(cm)를 입력하세요. : 162\n",
      "몸무게(kg)를 입력하세요. : 42\n",
      "성별(woman or man)을 입력하세요. : woman\n",
      "Normal\n",
      "식품명을 입력하세요. : 에너지바\n",
      "1회 제공량(g): 30 g\n",
      "열량(kcal): 139.64 g\n",
      "탄수화물(g): 15.75 g\n",
      "단백질(g): 4.41 g\n",
      "지방(g): 7.14 g\n",
      "당류(g): 8.07 g\n",
      "나트륨(mg): 40.18 mg\n",
      "콜레스트롤(mg): 0.59 mg\n",
      "포화지방산(g): 1.86 g\n",
      "트랜스지방산(g): 0.00 g\n",
      "     DESC_KOR SERVING_WT NUTR_CONT1 NUTR_CONT2 NUTR_CONT3 NUTR_CONT4  \\\n",
      "0        에너지바         30     139.64      15.75       4.41       7.14   \n",
      "1        수수팥떡        100     204.00      43.00       6.70       0.60   \n",
      "2        비빔만두        100     161.23      16.35       4.05       8.85   \n",
      "3          두부        100      88.00       0.80       7.60       5.90   \n",
      "4    빙그레레몬에이드        100      81.78      19.44       0.00       0.44   \n",
      "..        ...        ...        ...        ...        ...        ...   \n",
      "95  크림스프(오뚜기)          0       0.00       0.00       0.00       0.00   \n",
      "96     크런키초코바         30     150.30      18.00       2.70       7.80   \n",
      "97         건빵         30      37.80       7.20       0.90       0.60   \n",
      "98    추젓(새우젓)        100      49.00       1.20       9.10       0.60   \n",
      "99      브라고폴콘         30      41.00       6.00       0.60       1.60   \n",
      "\n",
      "   NUTR_CONT5 NUTR_CONT6 NUTR_CONT7 NUTR_CONT8 NUTR_CONT9  \n",
      "0        8.07      40.18       0.59       1.86       0.00  \n",
      "1        2.80     241.93       0.00       0.20       0.00  \n",
      "2        1.03     474.19       0.00       1.32       0.00  \n",
      "3         N/A       4.00       0.00        N/A        N/A  \n",
      "4        9.44      27.78       0.00       0.33       0.00  \n",
      "..        ...        ...        ...        ...        ...  \n",
      "95        N/A       0.00        N/A        N/A        N/A  \n",
      "96      12.60      33.90       3.30       3.30       0.03  \n",
      "97       0.90      39.30       0.15       0.15       0.00  \n",
      "98        N/A    9138.00        N/A        N/A        N/A  \n",
      "99       1.80      36.00       0.00       0.58       0.01  \n",
      "\n",
      "[100 rows x 11 columns]\n"
     ]
    }
   ],
   "source": [
    "print(Bmi()) #Bmi 함수 \n",
    "\n",
    "print(Body_fat_percentage()) #체지방률 함수\n",
    "\n",
    "food_nutrient() #영양성분 함수\n",
    "\n",
    "print(food_nutrient_information) #pandas dataframe "
   ]
  },
  {
   "cell_type": "markdown",
   "metadata": {},
   "source": [
    "(6) 결론:\n",
    "\n",
    "   Bmi 함수에서는 Bmi 계산식에 자신의 몸무게와 키를 입력받아 범위에 따라 자신의 비만도를 결과값으로 반환해 주었다.\n",
    "   \n",
    "   체지방률 함수에서는 추가적으로 성별까지 고려하여 자신의 체지방 수치가 높은지, 정상인지를 알려주었다.\n",
    "   \n",
    "   마지막으로 영양성분함수에서는 식품명을 입력받아 이에 해당하는 영양정보를 제공하고 2차원 형식의 표와 csv파일로도 이를 확인할 수 있다. \n"
   ]
  },
  {
   "cell_type": "markdown",
   "metadata": {},
   "source": [
    "(7) 참고문헌:\n",
    "\n",
    "- 공공데이터포털, \"식품 영양성분(DB) 서비스\", https://www.data.go.kr/index.do\n",
    "\n",
    "\n",
    "- 강남구 보건소, \"bmi 계산기\", https://health.gangnam.go.kr/self/check/fatness.do?mid=482-1031\n",
    "\n",
    "\n",
    "- 소미네 잡학다식 5, \"체지방률 계산\", https://somehouse5.tistory.com/2\n",
    "\n",
    "\n",
    "- 유튜브, \"공공데이터 호출하고 데이터 뽑기.json\", https://youtu.be/iLXNSjjWNtQ\n"
   ]
  },
  {
   "cell_type": "markdown",
   "metadata": {},
   "source": [
    "(8) 별첨: (3)의 획득한 데이터 원본"
   ]
  },
  {
   "cell_type": "markdown",
   "metadata": {},
   "source": [
    "1)식품의약품안전처 식품 영양성분(DB) 서비스\n",
    "\n",
    "[{'DESC_KOR': '어란젓', 'SERVING_WT': '0', 'NUTR_CONT1': '0.00', 'NUTR_CONT2': '0.00', 'NUTR_CONT3': '0.00', 'NUTR_CONT4': '0.00', 'NUTR_CONT5': 'N/A', 'NUTR_CONT6': '0.00', 'NUTR_CONT7': 'N/A', 'NUTR_CONT8': 'N/A', 'NUTR_CONT9': 'N/A', 'BGN_YEAR': '2006', 'ANIMAL_PLANT': None}, {'DESC_KOR': '목장의신선함이살아있는요구르트플레인', 'SERVING_WT': '150', 'NUTR_CONT1': '213.75', 'NUTR_CONT2': '33.75', 'NUTR_CONT3': '6.75', 'NUTR_CONT4': '6.08', 'NUTR_CONT5': '29.25', 'NUTR_CONT6': '157.50', 'NUTR_CONT7': '22.50', 'NUTR_CONT8': '3.82', 'NUTR_CONT9': '0.00', 'BGN_YEAR': '2017', 'ANIMAL_PLANT': '서울우유'}, {'DESC_KOR': '컨피던스', 'SERVING_WT': '200', 'NUTR_CONT1': '76.00', 'NUTR_CONT2': '18.00', 'NUTR_CONT3': '0.00', 'NUTR_CONT4': '0.00', 'NUTR_CONT5': '18.00', 'NUTR_CONT6': '64.00', 'NUTR_CONT7': '0.00', 'NUTR_CONT8': '0.00', 'NUTR_CONT9': '0.00', 'BGN_YEAR': '2012', 'ANIMAL_PLANT': '동아오츠카'}, {'DESC_KOR': '유기농크록스핏츠버터비스킷위드프레쉬밀크', 'SERVING_WT': '30', 'NUTR_CONT1': '41.76', 'NUTR_CONT2': '6.48', 'NUTR_CONT3': '0.72', 'NUTR_CONT4': '1.44', 'NUTR_CONT5': '2.22', 'NUTR_CONT6': '28.08', 'NUTR_CONT7': '0.00', 'NUTR_CONT8': '1.08', 'NUTR_CONT9': '0.00', 'BGN_YEAR': '2017', 'ANIMAL_PLANT': '쉬즈하우스'}, {'DESC_KOR': '다시마가공(기타),육수', 'SERVING_WT': '100', 'NUTR_CONT1': '1.00', 'NUTR_CONT2': '0.30', 'NUTR_CONT3': '0.10', 'NUTR_CONT4': '0.00', 'NUTR_CONT5': '0.00', 'NUTR_CONT6': '31.00', 'NUTR_CONT7': '0.00', 'NUTR_CONT8': '0.00', 'NUTR_CONT9': 'N/A', 'BGN_YEAR': '2017', 'ANIMAL_PLANT': None}, {'DESC_KOR': '어쏠티드요거트푸딩', 'SERVING_WT': '100', 'NUTR_CONT1': '80.00', 'NUTR_CONT2': '18.00', 'NUTR_CONT3': '1.00', 'NUTR_CONT4': '0.00', 'NUTR_CONT5': '11.00', 'NUTR_CONT6': '60.00', 'NUTR_CONT7': '0.00', 'NUTR_CONT8': '0.00', 'NUTR_CONT9': '0.00', 'BGN_YEAR': '2013', 'ANIMAL_PLANT': '(주)대산인터내셔널'}, {'DESC_KOR': '떡볶이(충청도)', 'SERVING_WT': '200', 'NUTR_CONT1': '332.00', 'NUTR_CONT2': '72.45', 'NUTR_CONT3': '8.31', 'NUTR_CONT4': '0.99', 'NUTR_CONT5': '8.40', 'NUTR_CONT6': '821.88', 'NUTR_CONT7': '9.04', 'NUTR_CONT8': '0.62', 'NUTR_CONT9': '0.01', 'BGN_YEAR': '2009', 'ANIMAL_PLANT': None}, {'DESC_KOR': '조제분유,초유밀-1', 'SERVING_WT': '100', 'NUTR_CONT1': '380.00', 'NUTR_CONT2': '53.00', 'NUTR_CONT3': '41.00', 'NUTR_CONT4': '1.00', 'NUTR_CONT5': '0.00', 'NUTR_CONT6': '180.00', 'NUTR_CONT7': '0.00', 'NUTR_CONT8': '0.00', 'NUTR_CONT9': '0.00', 'BGN_YEAR': '2017', 'ANIMAL_PLANT': '일동후디스'}, {'DESC_KOR': '떠먹는불가리스키위', 'SERVING_WT': '100', 'NUTR_CONT1': '105.00', 'NUTR_CONT2': '16.00', 'NUTR_CONT3': '4.00', 'NUTR_CONT4': '2.80', 'NUTR_CONT5': '14.00', 'NUTR_CONT6': '60.00', 'NUTR_CONT7': '8.00', 'NUTR_CONT8': '2.00', 'NUTR_CONT9': '0.00', 'BGN_YEAR': '2015', 'ANIMAL_PLANT': '남양유업'}, {'DESC_KOR': '시리얼,코코넛푸레이크', 'SERVING_WT': '30', 'NUTR_CONT1': '123.00', 'NUTR_CONT2': '26.10', 'NUTR_CONT3': '1.20', 'NUTR_CONT4': '1.50', 'NUTR_CONT5': 'N/A', 'NUTR_CONT6': '81.00', 'NUTR_CONT7': 'N/A', 'NUTR_CONT8': 'N/A', 'NUTR_CONT9': 'N/A', 'BGN_YEAR': '2006', 'ANIMAL_PLANT': '농심켈로그주식회사'}, {'DESC_KOR': '생크림소보루빵', 'SERVING_WT': '100', 'NUTR_CONT1': '421.09', 'NUTR_CONT2': '50.72', 'NUTR_CONT3': '7.83', 'NUTR_CONT4': '20.77', 'NUTR_CONT5': '9.39', 'NUTR_CONT6': '172.65', 'NUTR_CONT7': '0.00', 'NUTR_CONT8': '7.44', 'NUTR_CONT9': '0.00', 'BGN_YEAR': '2013', 'ANIMAL_PLANT': None}, {'DESC_KOR': '오징어포,왕실오징어', 'SERVING_WT': '30', 'NUTR_CONT1': '82.50', 'NUTR_CONT2': '6.75', 'NUTR_CONT3': '13.08', 'NUTR_CONT4': '0.36', 'NUTR_CONT5': 'N/A', 'NUTR_CONT6': '270.90', 'NUTR_CONT7': 'N/A', 'NUTR_CONT8': 'N/A', 'NUTR_CONT9': 'N/A', 'BGN_YEAR': '2006', 'ANIMAL_PLANT': '한성기업'}, {'DESC_KOR': '도토루더브렌디아메리카노', 'SERVING_WT': '200', 'NUTR_CONT1': '25.00', 'NUTR_CONT2': '6.25', 'NUTR_CONT3': '0.00', 'NUTR_CONT4': '0.00', 'NUTR_CONT5': '15.00', 'NUTR_CONT6': '27.78', 'NUTR_CONT7': '0.00', 'NUTR_CONT8': '0.00', 'NUTR_CONT9': '0.00', 'BGN_YEAR': '2017', 'ANIMAL_PLANT': '서울우유'}, {'DESC_KOR': '가리비관자,냉동', 'SERVING_WT': '100', 'NUTR_CONT1': '105.00', 'NUTR_CONT2': '2.40', 'NUTR_CONT3': '20.80', 'NUTR_CONT4': '0.80', 'NUTR_CONT5': 'N/A', 'NUTR_CONT6': '254.00', 'NUTR_CONT7': 'N/A', 'NUTR_CONT8': 'N/A', 'NUTR_CONT9': 'N/A', 'BGN_YEAR': '2011', 'ANIMAL_PLANT': None}, {'DESC_KOR': '생강캔디', 'SERVING_WT': '10', 'NUTR_CONT1': '3.76', 'NUTR_CONT2': '0.97', 'NUTR_CONT3': '0.00', 'NUTR_CONT4': '0.00', 'NUTR_CONT5': '0.75', 'NUTR_CONT6': '0.41', 'NUTR_CONT7': '0.00', 'NUTR_CONT8': '0.00', 'NUTR_CONT9': '0.00', 'BGN_YEAR': '2017', 'ANIMAL_PLANT': '롯데제과'}, {'DESC_KOR': '켄돈6컬러파스텔롤리팝', 'SERVING_WT': '10', 'NUTR_CONT1': '5.00', 'NUTR_CONT2': '1.20', 'NUTR_CONT3': '0.00', 'NUTR_CONT4': '0.00', 'NUTR_CONT5': '1.20', 'NUTR_CONT6': '1.00', 'NUTR_CONT7': '0.00', 'NUTR_CONT8': '0.00', 'NUTR_CONT9': '0.00', 'BGN_YEAR': '2013', 'ANIMAL_PLANT': '스위트문(sweet moon)'}, {'DESC_KOR': '미역줄기염장품,삶은것,탈염', 'SERVING_WT': '100', 'NUTR_CONT1': '15.00', 'NUTR_CONT2': '5.50', 'NUTR_CONT3': '1.10', 'NUTR_CONT4': '0.30', 'NUTR_CONT5': '0.00', 'NUTR_CONT6': '3100.00', 'NUTR_CONT7': '0.00', 'NUTR_CONT8': '-0.02', 'NUTR_CONT9': 'N/A', 'BGN_YEAR': '2017', 'ANIMAL_PLANT': None}, {'DESC_KOR': '쯔마미이찌방그린마메', 'SERVING_WT': '30', 'NUTR_CONT1': '43.50', 'NUTR_CONT2': '5.40', 'NUTR_CONT3': '1.50', 'NUTR_CONT4': '1.80', 'NUTR_CONT5': '3.00', 'NUTR_CONT6': '48.00', 'NUTR_CONT7': '4.50', 'NUTR_CONT8': '0.90', 'NUTR_CONT9': '0.00', 'BGN_YEAR': '2013', 'ANIMAL_PLANT': '(주)동양트레이드'}, {'DESC_KOR': '고추잡채(경기도)', 'SERVING_WT': '200', 'NUTR_CONT1': '286.00', 'NUTR_CONT2': '27.32', 'NUTR_CONT3': '11.12', 'NUTR_CONT4': '14.77', 'NUTR_CONT5': '1.71', 'NUTR_CONT6': '751.16', 'NUTR_CONT7': '34.88', 'NUTR_CONT8': '2.40', 'NUTR_CONT9': '0.11', 'BGN_YEAR': '2010', 'ANIMAL_PLANT': None}, {'DESC_KOR': '굿키스오트앤월넛쿠키', 'SERVING_WT': '30', 'NUTR_CONT1': '45.00', 'NUTR_CONT2': '5.14', 'NUTR_CONT3': '0.00', 'NUTR_CONT4': '2.57', 'NUTR_CONT5': '1.29', 'NUTR_CONT6': '32.14', 'NUTR_CONT7': '0.00', 'NUTR_CONT8': '1.29', 'NUTR_CONT9': '0.00', 'BGN_YEAR': '2017', 'ANIMAL_PLANT': '일신국제무역'}, {'DESC_KOR': '불가리스20＇s포도', 'SERVING_WT': '150', 'NUTR_CONT1': '127.50', 'NUTR_CONT2': '19.50', 'NUTR_CONT3': '4.50', 'NUTR_CONT4': '4.20', 'NUTR_CONT5': '19.50', 'NUTR_CONT6': '82.50', 'NUTR_CONT7': '15.00', 'NUTR_CONT8': '2.55', 'NUTR_CONT9': '0.00', 'BGN_YEAR': '2015', 'ANIMAL_PLANT': '남양유업'}, {'DESC_KOR': '시갈오쇼콜라', 'SERVING_WT': '30', 'NUTR_CONT1': '51.21', 'NUTR_CONT2': '4.99', 'NUTR_CONT3': '0.61', 'NUTR_CONT4': '2.87', 'NUTR_CONT5': '3.15', 'NUTR_CONT6': '14.67', 'NUTR_CONT7': '6.30', 'NUTR_CONT8': '1.96', 'NUTR_CONT9': '0.07', 'BGN_YEAR': '2017', 'ANIMAL_PLANT': '뉴욕제과'}, {'DESC_KOR': '오메가곡물식빵', 'SERVING_WT': '70', 'NUTR_CONT1': '126.00', 'NUTR_CONT2': '21.00', 'NUTR_CONT3': '4.20', 'NUTR_CONT4': '3.15', 'NUTR_CONT5': '2.10', 'NUTR_CONT6': '203.00', 'NUTR_CONT7': '10.50', 'NUTR_CONT8': '0.70', 'NUTR_CONT9': '0.00', 'BGN_YEAR': '2015', 'ANIMAL_PLANT': None}, {'DESC_KOR': '새우젓,새우젓갈', 'SERVING_WT': '30', 'NUTR_CONT1': '11.40', 'NUTR_CONT2': '0.57', 'NUTR_CONT3': '2.10', 'NUTR_CONT4': '0.09', 'NUTR_CONT5': 'N/A', 'NUTR_CONT6': '2049.00', 'NUTR_CONT7': 'N/A', 'NUTR_CONT8': 'N/A', 'NUTR_CONT9': 'N/A', 'BGN_YEAR': '2006', 'ANIMAL_PLANT': '한성기업'}, {'DESC_KOR': '리이브포도', 'SERVING_WT': '200', 'NUTR_CONT1': '210.00', 'NUTR_CONT2': '50.00', 'NUTR_CONT3': '2.00', 'NUTR_CONT4': '0.00', 'NUTR_CONT5': '48.00', 'NUTR_CONT6': '60.00', 'NUTR_CONT7': '0.00', 'NUTR_CONT8': '0.00', 'NUTR_CONT9': '0.00', 'BGN_YEAR': '2015', 'ANIMAL_PLANT': '서울우유'}, {'DESC_KOR': '오징어,생것', 'SERVING_WT': '100', 'NUTR_CONT1': '87.00', 'NUTR_CONT2': '0.16', 'NUTR_CONT3': '18.84', 'NUTR_CONT4': '1.44', 'NUTR_CONT5': '0.00', 'NUTR_CONT6': '199.00', 'NUTR_CONT7': '20.95', 'NUTR_CONT8': '0.36', 'NUTR_CONT9': 'N/A', 'BGN_YEAR': '2017', 'ANIMAL_PLANT': None}, {'DESC_KOR': '과자,쵸이스', 'SERVING_WT': '30', 'NUTR_CONT1': '43.47', 'NUTR_CONT2': '6.25', 'NUTR_CONT3': '0.58', 'NUTR_CONT4': '1.79', 'NUTR_CONT5': '0.00', 'NUTR_CONT6': '33.12', 'NUTR_CONT7': '0.00', 'NUTR_CONT8': '0.00', 'NUTR_CONT9': '0.00', 'BGN_YEAR': '2017', 'ANIMAL_PLANT': '롯데제과'}, {'DESC_KOR': '스콘자비브란트믹스조단아몬드', 'SERVING_WT': '30', 'NUTR_CONT1': '15.00', 'NUTR_CONT2': '2.40', 'NUTR_CONT3': '0.30', 'NUTR_CONT4': '0.45', 'NUTR_CONT5': '2.10', 'NUTR_CONT6': '0.30', 'NUTR_CONT7': '0.00', 'NUTR_CONT8': '0.00', 'NUTR_CONT9': '0.00', 'BGN_YEAR': '2013', 'ANIMAL_PLANT': '스위트문(sweet moon)'}, {'DESC_KOR': '톳,자건', 'SERVING_WT': '100', 'NUTR_CONT1': '135.00', 'NUTR_CONT2': '59.70', 'NUTR_CONT3': '6.20', 'NUTR_CONT4': '0.80', 'NUTR_CONT5': '0.00', 'NUTR_CONT6': '0.00', 'NUTR_CONT7': '0.00', 'NUTR_CONT8': '0.00', 'NUTR_CONT9': 'N/A', 'BGN_YEAR': '2017', 'ANIMAL_PLANT': None}, {'DESC_KOR': '오레오초코샌드위치쿠키초코크림', 'SERVING_WT': '30', 'NUTR_CONT1': '43.45', 'NUTR_CONT2': '6.21', 'NUTR_CONT3': '0.31', 'NUTR_CONT4': '1.86', 'NUTR_CONT5': '3.37', 'NUTR_CONT6': '43.45', 'NUTR_CONT7': '0.00', 'NUTR_CONT8': '0.00', 'NUTR_CONT9': '0.00', 'BGN_YEAR': '2017', 'ANIMAL_PLANT': '(주)명도물산'}, {'DESC_KOR': '주꾸미볶음(서울)', 'SERVING_WT': '200', 'NUTR_CONT1': '206.00', 'NUTR_CONT2': '17.00', 'NUTR_CONT3': '20.76', 'NUTR_CONT4': '6.03', 'NUTR_CONT5': '2.41', 'NUTR_CONT6': '883.39', 'NUTR_CONT7': '210.88', 'NUTR_CONT8': '0.94', 'NUTR_CONT9': '0.05', 'BGN_YEAR': '2012', 'ANIMAL_PLANT': None}, {'DESC_KOR': '초코칩비스킷', 'SERVING_WT': '30', 'NUTR_CONT1': '44.10', 'NUTR_CONT2': '6.30', 'NUTR_CONT3': '0.60', 'NUTR_CONT4': '1.89', 'NUTR_CONT5': '1.20', 'NUTR_CONT6': '36.90', 'NUTR_CONT7': '0.00', 'NUTR_CONT8': '1.08', 'NUTR_CONT9': '0.00', 'BGN_YEAR': '2017', 'ANIMAL_PLANT': '일신국제무역'}, {'DESC_KOR': '치즈명장드빈치체다슬라이스치즈', 'SERVING_WT': '20', 'NUTR_CONT1': '60.00', 'NUTR_CONT2': '0.00', 'NUTR_CONT3': '4.00', 'NUTR_CONT4': '5.00', 'NUTR_CONT5': '0.00', 'NUTR_CONT6': '140.00', 'NUTR_CONT7': '14.00', 'NUTR_CONT8': '3.50', 'NUTR_CONT9': '0.30', 'BGN_YEAR': '2015', 'ANIMAL_PLANT': '남양유업'}, {'DESC_KOR': '솔져푸얼(피넛버터)', 'SERVING_WT': '30', 'NUTR_CONT1': '81.00', 'NUTR_CONT2': '12.30', 'NUTR_CONT3': '3.00', 'NUTR_CONT4': '2.70', 'NUTR_CONT5': '4.50', 'NUTR_CONT6': '40.50', 'NUTR_CONT7': '1.50', 'NUTR_CONT8': '0.60', 'NUTR_CONT9': '0.00', 'BGN_YEAR': '2013', 'ANIMAL_PLANT': '대경상사'}, {'DESC_KOR': '빵,초코소라', 'SERVING_WT': '50', 'NUTR_CONT1': '160.00', 'NUTR_CONT2': '26.00', 'NUTR_CONT3': '3.00', 'NUTR_CONT4': '5.00', 'NUTR_CONT5': '14.00', 'NUTR_CONT6': '130.00', 'NUTR_CONT7': '20.00', 'NUTR_CONT8': '2.50', 'NUTR_CONT9': '0.05', 'BGN_YEAR': '2012', 'ANIMAL_PLANT': None}, {'DESC_KOR': '능이버섯(향버섯),생것', 'SERVING_WT': '4', 'NUTR_CONT1': '17.28', 'NUTR_CONT2': '1.22', 'NUTR_CONT3': '0.95', 'NUTR_CONT4': '0.96', 'NUTR_CONT5': 'N/A', 'NUTR_CONT6': '126.36', 'NUTR_CONT7': 'N/A', 'NUTR_CONT8': 'N/A', 'NUTR_CONT9': 'N/A', 'BGN_YEAR': '2006', 'ANIMAL_PLANT': '한성기업'}, {'DESC_KOR': '서울우유', 'SERVING_WT': '100', 'NUTR_CONT1': '70.00', 'NUTR_CONT2': '5.00', 'NUTR_CONT3': '3.00', 'NUTR_CONT4': '4.00', 'NUTR_CONT5': '5.00', 'NUTR_CONT6': '50.00', 'NUTR_CONT7': '10.00', 'NUTR_CONT8': '2.50', 'NUTR_CONT9': '0.00', 'BGN_YEAR': '2015', 'ANIMAL_PLANT': '서울우유'}, {'DESC_KOR': '꽃새우장조림', 'SERVING_WT': '100', 'NUTR_CONT1': '240.00', 'NUTR_CONT2': '25.80', 'NUTR_CONT3': '25.90', 'NUTR_CONT4': '2.60', 'NUTR_CONT5': 'N/A', 'NUTR_CONT6': '0.00', 'NUTR_CONT7': 'N/A', 'NUTR_CONT8': 'N/A', 'NUTR_CONT9': 'N/A', 'BGN_YEAR': '2011', 'ANIMAL_PLANT': None}, {'DESC_KOR': '파인애플가공(통조림),통조림', 'SERVING_WT': '100', 'NUTR_CONT1': '76.00', 'NUTR_CONT2': '18.81', 'NUTR_CONT3': '0.13', 'NUTR_CONT4': '0.00', 'NUTR_CONT5': '13.02', 'NUTR_CONT6': '1.00', 'NUTR_CONT7': '0.00', 'NUTR_CONT8': '0.00', 'NUTR_CONT9': 'N/A', 'BGN_YEAR': '2017', 'ANIMAL_PLANT': None}, {'DESC_KOR': '고드름쥬시', 'SERVING_WT': '100', 'NUTR_CONT1': '12.50', 'NUTR_CONT2': '3.50', 'NUTR_CONT3': '0.00', 'NUTR_CONT4': '0.00', 'NUTR_CONT5': '3.00', 'NUTR_CONT6': '0.00', 'NUTR_CONT7': '0.00', 'NUTR_CONT8': '0.00', 'NUTR_CONT9': '0.00', 'BGN_YEAR': '2012', 'ANIMAL_PLANT': '롯데제과'}, {'DESC_KOR': '스콘자어쏘티드스탠다드조단아몬드', 'SERVING_WT': '30', 'NUTR_CONT1': '15.00', 'NUTR_CONT2': '2.40', 'NUTR_CONT3': '0.30', 'NUTR_CONT4': '0.39', 'NUTR_CONT5': '2.10', 'NUTR_CONT6': '0.00', 'NUTR_CONT7': '0.00', 'NUTR_CONT8': '0.00', 'NUTR_CONT9': '0.00', 'BGN_YEAR': '2013', 'ANIMAL_PLANT': '스위트문(sweet moon)'}, {'DESC_KOR': '햄버그스테이크(전라도)', 'SERVING_WT': '200', 'NUTR_CONT1': '454.00', 'NUTR_CONT2': '23.95', 'NUTR_CONT3': '24.37', 'NUTR_CONT4': '28.90', 'NUTR_CONT5': '11.72', 'NUTR_CONT6': '1058.79', 'NUTR_CONT7': '55.50', 'NUTR_CONT8': '8.38', 'NUTR_CONT9': '0.09', 'BGN_YEAR': '2011', 'ANIMAL_PLANT': None}, {'DESC_KOR': '토쿠노밀크쿠키', 'SERVING_WT': '30', 'NUTR_CONT1': '49.82', 'NUTR_CONT2': '5.46', 'NUTR_CONT3': '0.64', 'NUTR_CONT4': '2.89', 'NUTR_CONT5': '5.14', 'NUTR_CONT6': '1.61', 'NUTR_CONT7': '1.61', 'NUTR_CONT8': '0.64', 'NUTR_CONT9': '0.16', 'BGN_YEAR': '2017', 'ANIMAL_PLANT': '(주)바로'}, {'DESC_KOR': '차카니스낵', 'SERVING_WT': '30', 'NUTR_CONT1': '31.50', 'NUTR_CONT2': '4.20', 'NUTR_CONT3': '0.39', 'NUTR_CONT4': '1.50', 'NUTR_CONT5': '0.93', 'NUTR_CONT6': '60.00', 'NUTR_CONT7': '0.06', 'NUTR_CONT8': '0.75', 'NUTR_CONT9': '0.00', 'BGN_YEAR': '2013', 'ANIMAL_PLANT': '전국토탈유통'}, {'DESC_KOR': '도넛,스트로베리&크림치즈', 'SERVING_WT': '90', 'NUTR_CONT1': '306.00', 'NUTR_CONT2': '45.90', 'NUTR_CONT3': '4.50', 'NUTR_CONT4': '12.60', 'NUTR_CONT5': '11.70', 'NUTR_CONT6': '459.00', 'NUTR_CONT7': '2.70', 'NUTR_CONT8': '5.40', 'NUTR_CONT9': '0.00', 'BGN_YEAR': '2015', 'ANIMAL_PLANT': None}, {'DESC_KOR': '임페리얼분유XORoyalClass2(남양유업)', 'SERVING_WT': '100', 'NUTR_CONT1': '492.86', 'NUTR_CONT2': '60.00', 'NUTR_CONT3': '12.14', 'NUTR_CONT4': '22.86', 'NUTR_CONT5': '51.43', 'NUTR_CONT6': '150.00', 'NUTR_CONT7': '50.00', 'NUTR_CONT8': '10.71', 'NUTR_CONT9': '0.00', 'BGN_YEAR': '2015', 'ANIMAL_PLANT': '남양유업'}, {'DESC_KOR': '프랑크소시지,켄터키후랑크', 'SERVING_WT': '30', 'NUTR_CONT1': '62.70', 'NUTR_CONT2': '4.68', 'NUTR_CONT3': '2.61', 'NUTR_CONT4': '3.69', 'NUTR_CONT5': 'N/A', 'NUTR_CONT6': '209.70', 'NUTR_CONT7': 'N/A', 'NUTR_CONT8': 'N/A', 'NUTR_CONT9': 'N/A', 'BGN_YEAR': '2006', 'ANIMAL_PLANT': '대림수산'}, {'DESC_KOR': '티라미슈트위스트쿠키', 'SERVING_WT': '30', 'NUTR_CONT1': '39.00', 'NUTR_CONT2': '4.50', 'NUTR_CONT3': '0.30', 'NUTR_CONT4': '2.10', 'NUTR_CONT5': '2.40', 'NUTR_CONT6': '15.90', 'NUTR_CONT7': '0.60', 'NUTR_CONT8': '1.20', 'NUTR_CONT9': '0.00', 'BGN_YEAR': '2013', 'ANIMAL_PLANT': '한신에프앤비'}, {'DESC_KOR': '전갱이조미반건품,구운것', 'SERVING_WT': '100', 'NUTR_CONT1': '220.00', 'NUTR_CONT2': '0.10', 'NUTR_CONT3': '24.60', 'NUTR_CONT4': '12.30', 'NUTR_CONT5': 'N/A', 'NUTR_CONT6': '770.00', 'NUTR_CONT7': 'N/A', 'NUTR_CONT8': 'N/A', 'NUTR_CONT9': 'N/A', 'BGN_YEAR': '2011', 'ANIMAL_PLANT': None}, {'DESC_KOR': '몽키', 'SERVING_WT': '200', 'NUTR_CONT1': '141.98', 'NUTR_CONT2': '27.16', 'NUTR_CONT3': '4.94', 'NUTR_CONT4': '1.73', 'NUTR_CONT5': '40.44', 'NUTR_CONT6': '80.25', 'NUTR_CONT7': '6.17', 'NUTR_CONT8': '1.24', 'NUTR_CONT9': '0.00', 'BGN_YEAR': '2017', 'ANIMAL_PLANT': '서울우유'}, {'DESC_KOR': '맥스웰하우스싱글카페', 'SERVING_WT': '200', 'NUTR_CONT1': '69.80', 'NUTR_CONT2': '16.00', 'NUTR_CONT3': '1.00', 'NUTR_CONT4': '0.20', 'NUTR_CONT5': '15.00', 'NUTR_CONT6': '90.00', 'NUTR_CONT7': '0.00', 'NUTR_CONT8': '0.00', 'NUTR_CONT9': '0.00', 'BGN_YEAR': '2015', 'ANIMAL_PLANT': '동서식품'}, {'DESC_KOR': '지도표재래식성경김', 'SERVING_WT': '4', 'NUTR_CONT1': '0.93', 'NUTR_CONT2': '0.03', 'NUTR_CONT3': '0.05', 'NUTR_CONT4': '0.07', 'NUTR_CONT5': '0.00', 'NUTR_CONT6': '1.74', 'NUTR_CONT7': '0.02', 'NUTR_CONT8': '0.01', 'NUTR_CONT9': '0.00', 'BGN_YEAR': '2017', 'ANIMAL_PLANT': '성경식품'}, {'DESC_KOR': '귤주스,무가당', 'SERVING_WT': '100', 'NUTR_CONT1': '41.00', 'NUTR_CONT2': '11.60', 'NUTR_CONT3': '0.30', 'NUTR_CONT4': '0.10', 'NUTR_CONT5': '0.00', 'NUTR_CONT6': '2.00', 'NUTR_CONT7': '0.00', 'NUTR_CONT8': '0.00', 'NUTR_CONT9': 'N/A', 'BGN_YEAR': '2017', 'ANIMAL_PLANT': None}, {'DESC_KOR': '카페크란쩨', 'SERVING_WT': '30', 'NUTR_CONT1': '41.40', 'NUTR_CONT2': '6.12', 'NUTR_CONT3': '0.72', 'NUTR_CONT4': '1.66', 'NUTR_CONT5': '2.88', 'NUTR_CONT6': '19.80', 'NUTR_CONT7': '5.04', 'NUTR_CONT8': '0.94', 'NUTR_CONT9': '0.00', 'BGN_YEAR': '2017', 'ANIMAL_PLANT': '(유)선한물산'}, {'DESC_KOR': '깻잎전', 'SERVING_WT': '150', 'NUTR_CONT1': '361.10', 'NUTR_CONT2': '14.54', 'NUTR_CONT3': '17.74', 'NUTR_CONT4': '25.78', 'NUTR_CONT5': '1.06', 'NUTR_CONT6': '480.15', 'NUTR_CONT7': '131.80', 'NUTR_CONT8': '5.43', 'NUTR_CONT9': '0.15', 'BGN_YEAR': '2012', 'ANIMAL_PLANT': None}, {'DESC_KOR': '브라고폴콘', 'SERVING_WT': '30', 'NUTR_CONT1': '41.00', 'NUTR_CONT2': '6.00', 'NUTR_CONT3': '0.60', 'NUTR_CONT4': '1.60', 'NUTR_CONT5': '1.80', 'NUTR_CONT6': '36.00', 'NUTR_CONT7': '0.00', 'NUTR_CONT8': '0.58', 'NUTR_CONT9': '0.01', 'BGN_YEAR': '2017', 'ANIMAL_PLANT': '이마트'}, {'DESC_KOR': '드빈치치즈콤비까망베르', 'SERVING_WT': '20', 'NUTR_CONT1': '11.40', 'NUTR_CONT2': '1.47', 'NUTR_CONT3': '0.80', 'NUTR_CONT4': '0.28', 'NUTR_CONT5': '0.13', 'NUTR_CONT6': '41.33', 'NUTR_CONT7': '1.33', 'NUTR_CONT8': '0.20', 'NUTR_CONT9': '0.07', 'BGN_YEAR': '2017', 'ANIMAL_PLANT': '남양유업'}, {'DESC_KOR': '도넛,크랜베리필드', 'SERVING_WT': '55', 'NUTR_CONT1': '107.25', 'NUTR_CONT2': '14.85', 'NUTR_CONT3': '2.20', 'NUTR_CONT4': '4.40', 'NUTR_CONT5': '6.05', 'NUTR_CONT6': '99.00', 'NUTR_CONT7': '0.00', 'NUTR_CONT8': '2.70', 'NUTR_CONT9': '0.00', 'BGN_YEAR': '2015', 'ANIMAL_PLANT': None}, {'DESC_KOR': '불고기골드햄', 'SERVING_WT': '30', 'NUTR_CONT1': '67.20', 'NUTR_CONT2': '3.54', 'NUTR_CONT3': '3.81', 'NUTR_CONT4': '4.20', 'NUTR_CONT5': 'N/A', 'NUTR_CONT6': '286.80', 'NUTR_CONT7': 'N/A', 'NUTR_CONT8': 'N/A', 'NUTR_CONT9': 'N/A', 'BGN_YEAR': '2006', 'ANIMAL_PLANT': '한성기업'}, {'DESC_KOR': '대관령저지방밸런스', 'SERVING_WT': '200', 'NUTR_CONT1': '160.00', 'NUTR_CONT2': '20.00', 'NUTR_CONT3': '12.00', 'NUTR_CONT4': '4.00', 'NUTR_CONT5': '18.87', 'NUTR_CONT6': '220.00', 'NUTR_CONT7': '12.00', 'NUTR_CONT8': '2.80', 'NUTR_CONT9': '0.00', 'BGN_YEAR': '2017', 'ANIMAL_PLANT': '삼양식품'}, {'DESC_KOR': '정어리가공(통조림),조미통조림', 'SERVING_WT': '100', 'NUTR_CONT1': '119.00', 'NUTR_CONT2': '0.40', 'NUTR_CONT3': '16.50', 'NUTR_CONT4': '5.90', 'NUTR_CONT5': '0.00', 'NUTR_CONT6': '450.00', 'NUTR_CONT7': '0.00', 'NUTR_CONT8': '0.00', 'NUTR_CONT9': 'N/A', 'BGN_YEAR': '2017', 'ANIMAL_PLANT': None}, {'DESC_KOR': '분말차,쌍화차믹스', 'SERVING_WT': '200', 'NUTR_CONT1': '802.00', 'NUTR_CONT2': '191.60', 'NUTR_CONT3': '2.00', 'NUTR_CONT4': '3.00', 'NUTR_CONT5': 'N/A', 'NUTR_CONT6': '100.00', 'NUTR_CONT7': 'N/A', 'NUTR_CONT8': 'N/A', 'NUTR_CONT9': 'N/A', 'BGN_YEAR': '2006', 'ANIMAL_PLANT': '동서식품'}, {'DESC_KOR': '파인애플마카다미아(1차포장)', 'SERVING_WT': '30', 'NUTR_CONT1': '39.38', 'NUTR_CONT2': '4.50', 'NUTR_CONT3': '0.56', 'NUTR_CONT4': '2.25', 'NUTR_CONT5': '1.69', 'NUTR_CONT6': '19.69', 'NUTR_CONT7': '5.62', 'NUTR_CONT8': '1.12', 'NUTR_CONT9': '0.00', 'BGN_YEAR': '2017', 'ANIMAL_PLANT': '성인터내셔널코리아 유한회사'}, {'DESC_KOR': '오렌지주스,가당', 'SERVING_WT': '100', 'NUTR_CONT1': '45.00', 'NUTR_CONT2': '12.40', 'NUTR_CONT3': '0.70', 'NUTR_CONT4': '0.10', 'NUTR_CONT5': '0.00', 'NUTR_CONT6': '2.00', 'NUTR_CONT7': '0.00', 'NUTR_CONT8': '0.00', 'NUTR_CONT9': 'N/A', 'BGN_YEAR': '2017', 'ANIMAL_PLANT': None}, {'DESC_KOR': '망고샤베트', 'SERVING_WT': '100', 'NUTR_CONT1': '104.00', 'NUTR_CONT2': '26.00', 'NUTR_CONT3': '0.00', 'NUTR_CONT4': '0.00', 'NUTR_CONT5': '21.00', 'NUTR_CONT6': '10.00', 'NUTR_CONT7': '0.00', 'NUTR_CONT8': '0.00', 'NUTR_CONT9': '0.00', 'BGN_YEAR': '2013', 'ANIMAL_PLANT': '(주)그린볼타임코리아'}, {'DESC_KOR': '화양적(서울)', 'SERVING_WT': '150', 'NUTR_CONT1': '294.00', 'NUTR_CONT2': '21.49', 'NUTR_CONT3': '13.76', 'NUTR_CONT4': '17.06', 'NUTR_CONT5': '1.15', 'NUTR_CONT6': '807.83', 'NUTR_CONT7': '104.83', 'NUTR_CONT8': '3.54', 'NUTR_CONT9': '0.09', 'BGN_YEAR': '2012', 'ANIMAL_PLANT': None}, {'DESC_KOR': '피코크전복죽', 'SERVING_WT': '260', 'NUTR_CONT1': '338.00', 'NUTR_CONT2': '59.80', 'NUTR_CONT3': '10.40', 'NUTR_CONT4': '6.24', 'NUTR_CONT5': '1.84', 'NUTR_CONT6': '1378.00', 'NUTR_CONT7': '13.00', 'NUTR_CONT8': '1.30', 'NUTR_CONT9': '0.00', 'BGN_YEAR': '2017', 'ANIMAL_PLANT': '이마트'}, {'DESC_KOR': '맛있는우유딸기', 'SERVING_WT': '200', 'NUTR_CONT1': '260.00', 'NUTR_CONT2': '40.00', 'NUTR_CONT3': '10.00', 'NUTR_CONT4': '6.00', 'NUTR_CONT5': '40.00', 'NUTR_CONT6': '160.00', 'NUTR_CONT7': '20.00', 'NUTR_CONT8': '4.00', 'NUTR_CONT9': '0.00', 'BGN_YEAR': '2017', 'ANIMAL_PLANT': '남양유업'}, {'DESC_KOR': '빵,녹차만주', 'SERVING_WT': '66', 'NUTR_CONT1': '138.60', 'NUTR_CONT2': '26.40', 'NUTR_CONT3': '3.30', 'NUTR_CONT4': '3.10', 'NUTR_CONT5': '13.20', 'NUTR_CONT6': '69.30', 'NUTR_CONT7': '19.80', 'NUTR_CONT8': '0.66', 'NUTR_CONT9': '0.33', 'BGN_YEAR': '2015', 'ANIMAL_PLANT': None}, {'DESC_KOR': '완자,좋은순돈육', 'SERVING_WT': '30', 'NUTR_CONT1': '66.00', 'NUTR_CONT2': '6.30', 'NUTR_CONT3': '4.02', 'NUTR_CONT4': '4.11', 'NUTR_CONT5': 'N/A', 'NUTR_CONT6': '99.90', 'NUTR_CONT7': 'N/A', 'NUTR_CONT8': 'N/A', 'NUTR_CONT9': 'N/A', 'BGN_YEAR': '2006', 'ANIMAL_PLANT': '한성기업'}, {'DESC_KOR': '삼양대관령요구르트', 'SERVING_WT': '100', 'NUTR_CONT1': '70.00', 'NUTR_CONT2': '17.00', 'NUTR_CONT3': '1.00', 'NUTR_CONT4': '0.00', 'NUTR_CONT5': '10.00', 'NUTR_CONT6': '30.00', 'NUTR_CONT7': '0.00', 'NUTR_CONT8': '0.00', 'NUTR_CONT9': '0.00', 'BGN_YEAR': '2017', 'ANIMAL_PLANT': '삼양식품'}, {'DESC_KOR': '청어,마른것', 'SERVING_WT': '100', 'NUTR_CONT1': '418.00', 'NUTR_CONT2': '1.00', 'NUTR_CONT3': '44.50', 'NUTR_CONT4': '24.00', 'NUTR_CONT5': 'N/A', 'NUTR_CONT6': '1300.00', 'NUTR_CONT7': '77.00', 'NUTR_CONT8': 'N/A', 'NUTR_CONT9': 'N/A', 'BGN_YEAR': '2011', 'ANIMAL_PLANT': None}, {'DESC_KOR': '콘푸라이트', 'SERVING_WT': '30', 'NUTR_CONT1': '111.60', 'NUTR_CONT2': '26.10', 'NUTR_CONT3': '1.20', 'NUTR_CONT4': '0.51', 'NUTR_CONT5': '10.20', 'NUTR_CONT6': '154.20', 'NUTR_CONT7': '0.00', 'NUTR_CONT8': '0.39', 'NUTR_CONT9': '0.00', 'BGN_YEAR': '2015', 'ANIMAL_PLANT': '동서식품'}, {'DESC_KOR': '화이트초콜릿코코넛(1차포장)', 'SERVING_WT': '30', 'NUTR_CONT1': '43.04', 'NUTR_CONT2': '5.09', 'NUTR_CONT3': '0.39', 'NUTR_CONT4': '2.35', 'NUTR_CONT5': '3.52', 'NUTR_CONT6': '21.52', 'NUTR_CONT7': '3.91', 'NUTR_CONT8': '1.96', 'NUTR_CONT9': '0.00', 'BGN_YEAR': '2017', 'ANIMAL_PLANT': '성인터내셔널코리아 유한회사'}, {'DESC_KOR': '라임,생것', 'SERVING_WT': '100', 'NUTR_CONT1': '30.00', 'NUTR_CONT2': '10.50', 'NUTR_CONT3': '0.70', 'NUTR_CONT4': '0.20', 'NUTR_CONT5': 'N/A', 'NUTR_CONT6': '2.00', 'NUTR_CONT7': '0.00', 'NUTR_CONT8': 'N/A', 'NUTR_CONT9': 'N/A', 'BGN_YEAR': '2011', 'ANIMAL_PLANT': None}, {'DESC_KOR': '미니링스', 'SERVING_WT': '10', 'NUTR_CONT1': '5.40', 'NUTR_CONT2': '1.30', 'NUTR_CONT3': '0.06', 'NUTR_CONT4': '0.00', 'NUTR_CONT5': '0.85', 'NUTR_CONT6': '0.51', 'NUTR_CONT7': '0.00', 'NUTR_CONT8': '0.00', 'NUTR_CONT9': '0.00', 'BGN_YEAR': '2013', 'ANIMAL_PLANT': '(주)뉴토리'}, {'DESC_KOR': '해물파전(충청도)', 'SERVING_WT': '150', 'NUTR_CONT1': '270.00', 'NUTR_CONT2': '30.08', 'NUTR_CONT3': '11.54', 'NUTR_CONT4': '11.58', 'NUTR_CONT5': '0.18', 'NUTR_CONT6': '350.94', 'NUTR_CONT7': '116.27', 'NUTR_CONT8': '1.93', 'NUTR_CONT9': '0.07', 'BGN_YEAR': '2011', 'ANIMAL_PLANT': None}, {'DESC_KOR': '베로마니타아즐캔디', 'SERVING_WT': '10', 'NUTR_CONT1': '6.00', 'NUTR_CONT2': '1.50', 'NUTR_CONT3': '0.00', 'NUTR_CONT4': '0.00', 'NUTR_CONT5': '1.50', 'NUTR_CONT6': '1.00', 'NUTR_CONT7': '0.00', 'NUTR_CONT8': '0.00', 'NUTR_CONT9': '0.00', 'BGN_YEAR': '2013', 'ANIMAL_PLANT': '이멕스무역'}, {'DESC_KOR': '민트초코라떼', 'SERVING_WT': '200', 'NUTR_CONT1': '260.00', 'NUTR_CONT2': '44.00', 'NUTR_CONT3': '8.00', 'NUTR_CONT4': '6.40', 'NUTR_CONT5': '42.00', 'NUTR_CONT6': '200.00', 'NUTR_CONT7': '20.00', 'NUTR_CONT8': '3.80', 'NUTR_CONT9': '0.00', 'BGN_YEAR': '2017', 'ANIMAL_PLANT': '남양유업'}, {'DESC_KOR': '케이크,마카롱모카', 'SERVING_WT': '70', 'NUTR_CONT1': '260.00', 'NUTR_CONT2': '23.00', 'NUTR_CONT3': '3.00', 'NUTR_CONT4': '17.00', 'NUTR_CONT5': '18.00', 'NUTR_CONT6': '100.00', 'NUTR_CONT7': '80.00', 'NUTR_CONT8': '8.00', 'NUTR_CONT9': '0.34', 'BGN_YEAR': '2012', 'ANIMAL_PLANT': None}, {'DESC_KOR': '통조림,살코기참치', 'SERVING_WT': '30', 'NUTR_CONT1': '72.30', 'NUTR_CONT2': '3.96', 'NUTR_CONT3': '5.31', 'NUTR_CONT4': '5.67', 'NUTR_CONT5': 'N/A', 'NUTR_CONT6': '0.00', 'NUTR_CONT7': 'N/A', 'NUTR_CONT8': 'N/A', 'NUTR_CONT9': 'N/A', 'BGN_YEAR': '2006', 'ANIMAL_PLANT': '한성기업'}, {'DESC_KOR': '박력밀가루', 'SERVING_WT': '100', 'NUTR_CONT1': '378.00', 'NUTR_CONT2': '77.50', 'NUTR_CONT3': '8.70', 'NUTR_CONT4': '0.80', 'NUTR_CONT5': '0.00', 'NUTR_CONT6': '2.00', 'NUTR_CONT7': '0.00', 'NUTR_CONT8': '0.00', 'NUTR_CONT9': 'N/A', 'BGN_YEAR': '2017', 'ANIMAL_PLANT': None}, {'DESC_KOR': '탈지분유', 'SERVING_WT': '100', 'NUTR_CONT1': '355.00', 'NUTR_CONT2': '52.00', 'NUTR_CONT3': '35.00', 'NUTR_CONT4': '1.00', 'NUTR_CONT5': '0.00', 'NUTR_CONT6': '600.00', 'NUTR_CONT7': '0.00', 'NUTR_CONT8': '0.00', 'NUTR_CONT9': '0.00', 'BGN_YEAR': '2017', 'ANIMAL_PLANT': '서울우유'}, {'DESC_KOR': '향어,생것', 'SERVING_WT': '100', 'NUTR_CONT1': '178.00', 'NUTR_CONT2': '0.30', 'NUTR_CONT3': '16.80', 'NUTR_CONT4': '11.20', 'NUTR_CONT5': 'N/A', 'NUTR_CONT6': '0.00', 'NUTR_CONT7': 'N/A', 'NUTR_CONT8': 'N/A', 'NUTR_CONT9': 'N/A', 'BGN_YEAR': '2011', 'ANIMAL_PLANT': None}, {'DESC_KOR': '후르츠샐러드,통조림', 'SERVING_WT': '100', 'NUTR_CONT1': '82.00', 'NUTR_CONT2': '19.30', 'NUTR_CONT3': '0.20', 'NUTR_CONT4': '0.40', 'NUTR_CONT5': 'N/A', 'NUTR_CONT6': '3.00', 'NUTR_CONT7': '82.00', 'NUTR_CONT8': 'N/A', 'NUTR_CONT9': 'N/A', 'BGN_YEAR': '2011', 'ANIMAL_PLANT': None}, {'DESC_KOR': '스타벅스더블샷에스프레소&크림', 'SERVING_WT': '200', 'NUTR_CONT1': '116.80', 'NUTR_CONT2': '20.00', 'NUTR_CONT3': '3.80', 'NUTR_CONT4': '2.40', 'NUTR_CONT5': '20.00', 'NUTR_CONT6': '85.00', 'NUTR_CONT7': '5.00', 'NUTR_CONT8': '1.40', 'NUTR_CONT9': '0.00', 'BGN_YEAR': '2015', 'ANIMAL_PLANT': '동서식품'}, {'DESC_KOR': '죠나마키쿄우', 'SERVING_WT': '30', 'NUTR_CONT1': '22.36', 'NUTR_CONT2': '5.07', 'NUTR_CONT3': '0.42', 'NUTR_CONT4': '0.04', 'NUTR_CONT5': '4.47', 'NUTR_CONT6': '0.00', 'NUTR_CONT7': '0.00', 'NUTR_CONT8': '0.00', 'NUTR_CONT9': '0.00', 'BGN_YEAR': '2017', 'ANIMAL_PLANT': '손으로만드는사랑(주)'}, {'DESC_KOR': '장어탕', 'SERVING_WT': '250', 'NUTR_CONT1': '250.00', 'NUTR_CONT2': '14.50', 'NUTR_CONT3': '22.50', 'NUTR_CONT4': '11.25', 'NUTR_CONT5': '3.25', 'NUTR_CONT6': '2275.00', 'NUTR_CONT7': '50.00', 'NUTR_CONT8': '0.75', 'NUTR_CONT9': '0.00', 'BGN_YEAR': '2017', 'ANIMAL_PLANT': None}, {'DESC_KOR': '유피망고블라스트', 'SERVING_WT': '10', 'NUTR_CONT1': '6.00', 'NUTR_CONT2': '1.40', 'NUTR_CONT3': '0.10', 'NUTR_CONT4': '0.00', 'NUTR_CONT5': '1.40', 'NUTR_CONT6': '1.00', 'NUTR_CONT7': '0.00', 'NUTR_CONT8': '0.00', 'NUTR_CONT9': '0.00', 'BGN_YEAR': '2013', 'ANIMAL_PLANT': '(주)뉴토리'}, {'DESC_KOR': '레돈도럭셔리크림웨이퍼', 'SERVING_WT': '30', 'NUTR_CONT1': '42.00', 'NUTR_CONT2': '6.54', 'NUTR_CONT3': '0.30', 'NUTR_CONT4': '1.50', 'NUTR_CONT5': '3.27', 'NUTR_CONT6': '23.40', 'NUTR_CONT7': '0.00', 'NUTR_CONT8': '0.72', 'NUTR_CONT9': '0.00', 'BGN_YEAR': '2017', 'ANIMAL_PLANT': '이멕스무역'}, {'DESC_KOR': '피자,치즈바이트수퍼슈프림F', 'SERVING_WT': '146', 'NUTR_CONT1': '477.42', 'NUTR_CONT2': '0.00', 'NUTR_CONT3': '22.48', 'NUTR_CONT4': '0.00', 'NUTR_CONT5': '4.38', 'NUTR_CONT6': '648.24', 'NUTR_CONT7': '0.00', 'NUTR_CONT8': '7.88', 'NUTR_CONT9': '0.00', 'BGN_YEAR': '2015', 'ANIMAL_PLANT': None}, {'DESC_KOR': '남양더블샷카라멜마키아또', 'SERVING_WT': '200', 'NUTR_CONT1': '229.01', 'NUTR_CONT2': '41.22', 'NUTR_CONT3': '7.63', 'NUTR_CONT4': '4.12', 'NUTR_CONT5': '30.71', 'NUTR_CONT6': '83.97', 'NUTR_CONT7': '15.27', 'NUTR_CONT8': '2.60', 'NUTR_CONT9': '0.00', 'BGN_YEAR': '2017', 'ANIMAL_PLANT': '남양유업'}, {'DESC_KOR': '명태가공품,명태살', 'SERVING_WT': '30', 'NUTR_CONT1': '21.30', 'NUTR_CONT2': '0.09', 'NUTR_CONT3': '4.89', 'NUTR_CONT4': '0.15', 'NUTR_CONT5': 'N/A', 'NUTR_CONT6': '63.00', 'NUTR_CONT7': 'N/A', 'NUTR_CONT8': 'N/A', 'NUTR_CONT9': 'N/A', 'BGN_YEAR': '2006', 'ANIMAL_PLANT': '한성기업'}, {'DESC_KOR': '스파게티,건면', 'SERVING_WT': '100', 'NUTR_CONT1': '363.00', 'NUTR_CONT2': '74.60', 'NUTR_CONT3': '11.20', 'NUTR_CONT4': '0.20', 'NUTR_CONT5': 'N/A', 'NUTR_CONT6': '19.00', 'NUTR_CONT7': 'N/A', 'NUTR_CONT8': 'N/A', 'NUTR_CONT9': 'N/A', 'BGN_YEAR': '2011', 'ANIMAL_PLANT': None}, {'DESC_KOR': '쌍뿔달재,생것', 'SERVING_WT': '100', 'NUTR_CONT1': '69.00', 'NUTR_CONT2': '0.10', 'NUTR_CONT3': '16.90', 'NUTR_CONT4': '0.40', 'NUTR_CONT5': '0.00', 'NUTR_CONT6': '0.00', 'NUTR_CONT7': '0.00', 'NUTR_CONT8': '0.00', 'NUTR_CONT9': 'N/A', 'BGN_YEAR': '2017', 'ANIMAL_PLANT': None}, {'DESC_KOR': '가공치즈,앙팡치즈', 'SERVING_WT': '20', 'NUTR_CONT1': '13.20', 'NUTR_CONT2': '0.04', 'NUTR_CONT3': '0.76', 'NUTR_CONT4': '1.12', 'NUTR_CONT5': '0.00', 'NUTR_CONT6': '36.00', 'NUTR_CONT7': '0.00', 'NUTR_CONT8': '0.00', 'NUTR_CONT9': '0.00', 'BGN_YEAR': '2017', 'ANIMAL_PLANT': '서울우유'}, {'DESC_KOR': '청정원후르츠잼', 'SERVING_WT': '20', 'NUTR_CONT1': '50.00', 'NUTR_CONT2': '13.00', 'NUTR_CONT3': '0.00', 'NUTR_CONT4': '0.00', 'NUTR_CONT5': '12.00', 'NUTR_CONT6': '0.00', 'NUTR_CONT7': '0.00', 'NUTR_CONT8': '0.00', 'NUTR_CONT9': '0.00', 'BGN_YEAR': '2015', 'ANIMAL_PLANT': '대상(주)'}, {'DESC_KOR': '크림~오바닐라향', 'SERVING_WT': '30', 'NUTR_CONT1': '43.50', 'NUTR_CONT2': '6.30', 'NUTR_CONT3': '0.60', 'NUTR_CONT4': '1.80', 'NUTR_CONT5': '3.30', 'NUTR_CONT6': '45.00', 'NUTR_CONT7': '0.90', 'NUTR_CONT8': '1.20', 'NUTR_CONT9': '0.00', 'BGN_YEAR': '2013', 'ANIMAL_PLANT': '삼경에프에스'}, {'DESC_KOR': '버찌통조림', 'SERVING_WT': '100', 'NUTR_CONT1': '74.00', 'NUTR_CONT2': '17.60', 'NUTR_CONT3': '0.60', 'NUTR_CONT4': '0.10', 'NUTR_CONT5': 'N/A', 'NUTR_CONT6': '3.00', 'NUTR_CONT7': '0.00', 'NUTR_CONT8': 'N/A', 'NUTR_CONT9': 'N/A', 'BGN_YEAR': '2011', 'ANIMAL_PLANT': None}, {'DESC_KOR': '프레시안우리손만두', 'SERVING_WT': '150', 'NUTR_CONT1': '285.00', 'NUTR_CONT2': '30.00', 'NUTR_CONT3': '12.00', 'NUTR_CONT4': '13.50', 'NUTR_CONT5': '3.75', 'NUTR_CONT6': '465.00', 'NUTR_CONT7': '13.50', 'NUTR_CONT8': '4.95', 'NUTR_CONT9': '0.00', 'BGN_YEAR': '2012', 'ANIMAL_PLANT': 'CJ제일제당'}]\n"
   ]
  },
  {
   "cell_type": "markdown",
   "metadata": {},
   "source": [
    "(9) 별첨: (4)의 가공된 데이터 원본."
   ]
  },
  {
   "cell_type": "code",
   "execution_count": 17,
   "metadata": {},
   "outputs": [],
   "source": [
    "#Bmi 함수 \n",
    "\n",
    "def Bmi(): \n",
    "    \n",
    "    height = float(input(\"키(cm)를 입력하세요. : \"))\n",
    "    weight = float(input(\"몸무게(kg)를 입력하세요. : \"))\n",
    "    \n",
    "    result = weight / (height ** 2) #weight(kg)/height(m**2)\n",
    "    \n",
    "    if result <= 18.5:\n",
    "        return \"Low weight\"\n",
    "        \n",
    "    elif result < 23:\n",
    "        return \"Normal weight\"\n",
    "        \n",
    "    elif result < 25 :\n",
    "        return \"Over weight\"\n",
    "        \n",
    "    elif result < 30:\n",
    "        return \"Obesity\"\n",
    "        \n",
    "    elif result < 35 :\n",
    "        return \"Extremely obesity\"\n",
    "        \n",
    "    elif result >= 35:\n",
    "        return \"Ultra high obesity\"\n"
   ]
  },
  {
   "cell_type": "code",
   "execution_count": 18,
   "metadata": {},
   "outputs": [],
   "source": [
    "#체지방률 함수 \n",
    "\n",
    "def Body_fat_percentage() :\n",
    "    \n",
    "    height = float(input(\"키(cm)를 입력하세요. : \"))\n",
    "    weight = float(input(\"몸무게(kg)를 입력하세요. : \"))\n",
    "    sex = input(\"성별(woman or man)을 입력하세요. : \")\n",
    "    \n",
    "    if sex == \"woman\":\n",
    "        \n",
    "        lean_mass_woman = (1.07 * weight) - (128 * (weight ** 2 / height ** 2)) #제지방 구하는 공식 \n",
    "        \n",
    "        body_fat = weight - lean_mass_woman  #체지방(kg)\n",
    "        \n",
    "        body_fat_percentage = (body_fat / weight) * 100 #체지방률(%)\n",
    "        \n",
    "        if body_fat_percentage > 25 :\n",
    "                \n",
    "            return \"Obesity\"\n",
    "        \n",
    "        else :\n",
    "            return \"Normal\"\n",
    "    \n",
    "    if sex ==  \"man\" :\n",
    "        \n",
    "        lean_mass_man = (1.10 * weight) - (128 * ( weight ** 2 / height ** 2))\n",
    "        \n",
    "        body_fat_percentage = weight - lean_mass_man\n",
    "            \n",
    "        if body_fat_percentage > 20 :\n",
    "                \n",
    "            return \"Obesity\"\n",
    "        \n",
    "        else :\n",
    "            return \"Normal\"\n",
    "\n"
   ]
  },
  {
   "cell_type": "code",
   "execution_count": 19,
   "metadata": {},
   "outputs": [],
   "source": [
    "#영양성분 함수\n",
    "\n",
    "def food_nutrient():\n",
    "    \n",
    "    food = input(\"식품명을 입력하세요. : \")\n",
    "    \n",
    "    for i in range(100):\n",
    "        if food == jsonObj['items']['item'][i]['DESC_KOR']:\n",
    "            print('1회 제공량(g):', jsonObj['items']['item'][i]['SERVING_WT'], 'g')\n",
    "            print('열량(kcal):',jsonObj['items']['item'][i]['NUTR_CONT1'], 'g')\n",
    "            print('탄수화물(g):', jsonObj['items']['item'][i]['NUTR_CONT2'], 'g')\n",
    "            print('단백질(g):', jsonObj['items']['item'][i]['NUTR_CONT3'], 'g' )\n",
    "            print('지방(g):', jsonObj['items']['item'][i]['NUTR_CONT4'], 'g')\n",
    "            print('당류(g):', jsonObj['items']['item'][i]['NUTR_CONT5'], 'g')\n",
    "            print('나트륨(mg):', jsonObj['items']['item'][i]['NUTR_CONT6'], 'mg')\n",
    "            print('콜레스트롤(mg):', jsonObj['items']['item'][i]['NUTR_CONT7'], 'mg')\n",
    "            print('포화지방산(g):', jsonObj['items']['item'][i]['NUTR_CONT8'], 'g')\n",
    "            print('트랜스지방산(g):', jsonObj['items']['item'][i]['NUTR_CONT9'], 'g')\n",
    "            \n",
    "        else:\n",
    "            continue\n"
   ]
  },
  {
   "cell_type": "markdown",
   "metadata": {},
   "source": [
    "(10) 별첨: (3)을 (4)로 변환하는 등의 작업을 위하여 본인이 직접 개발한 Python 소스 코드 원본"
   ]
  },
  {
   "cell_type": "code",
   "execution_count": 1,
   "metadata": {},
   "outputs": [],
   "source": [
    "#식품의약품안전처_식품 영양성분 서비스\n",
    "\n",
    "import requests, xmltodict \n",
    "import json\n",
    "\n",
    "\n",
    "key = \"fUKwP9%2BG091%2FnF2yErtsMFG8RDTNHhYdtsyXO%2BsGa0MaFwx0PgCF9yMp%2BLV7KV7PMZ6fcC3iZ0p05A5onIXT5g%3D%3D\"\n",
    "url = \"http://apis.data.go.kr/1470000/FoodNtrIrdntInfoService/getFoodNtrItdntList?ServiceKey={}&numOfRows=100&pageNo=2&type=xml\".format(key)\n",
    "\n",
    "content = requests.get(url).content \n",
    "dict = xmltodict.parse(content)\n",
    "jsonString = json.dumps(dict['response']['body'], ensure_ascii = False)\n",
    "jsonObj = json.loads(jsonString)\n"
   ]
  },
  {
   "cell_type": "code",
   "execution_count": 3,
   "metadata": {},
   "outputs": [],
   "source": [
    "#csv파일 제공\n",
    "\n",
    "\n",
    "import pandas as pd\n",
    "\n",
    "df = pd.read_json(\"http://apis.data.go.kr/1470000/FoodNtrIrdntInfoService/getFoodNtrItdntList?ServiceKey=fUKwP9%2BG091%2FnF2yErtsMFG8RDTNHhYdtsyXO%2BsGa0MaFwx0PgCF9yMp%2BLV7KV7PMZ6fcC3iZ0p05A5onIXT5g%3D%3D&numOfRows=100&pageNo=2&type=json\")\n",
    "\n",
    "\n",
    "food_nutrient_information = pd.DataFrame(jsonObj['items']['item'],\n",
    "                                  columns = ['DESC_KOR', 'SERVING_WT', 'NUTR_CONT1', 'NUTR_CONT2', 'NUTR_CONT3', 'NUTR_CONT4', 'NUTR_CONT5', 'NUTR_CONT6', 'NUTR_CONT7','NUTR_CONT8', 'NUTR_CONT9'])\n",
    "\n",
    "\n",
    "\n",
    "food_nutrient_information\n",
    "\n",
    "food_nutrient_information.to_csv(\"food_nutrient_information.csv\", encoding='utf-8-sig') #csv파일 저장 "
   ]
  }
 ],
 "metadata": {
  "kernelspec": {
   "display_name": "Python 3",
   "language": "python",
   "name": "python3"
  },
  "language_info": {
   "codemirror_mode": {
    "name": "ipython",
    "version": 3
   },
   "file_extension": ".py",
   "mimetype": "text/x-python",
   "name": "python",
   "nbconvert_exporter": "python",
   "pygments_lexer": "ipython3",
   "version": "3.8.5"
  }
 },
 "nbformat": 4,
 "nbformat_minor": 4
}
